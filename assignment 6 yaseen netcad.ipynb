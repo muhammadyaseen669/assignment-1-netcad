{
 "cells": [
  {
   "cell_type": "markdown",
   "metadata": {},
   "source": [
    "# asiignment 6"
   ]
  },
  {
   "cell_type": "code",
   "execution_count": 15,
   "metadata": {},
   "outputs": [
    {
     "name": "stdout",
     "output_type": "stream",
     "text": [
      "whoom bhoom your engine is now start\n"
     ]
    }
   ],
   "source": [
    "class car:\n",
    "    name=\"civic\"\n",
    "    make=\"honda\"\n",
    "    model=2020\n",
    "    price=4000000\n",
    "    color=\"white\"\n",
    "    \n",
    "    def start(self):\n",
    "        print(\"whoom bhoom your engine is now start\")\n",
    "    def stop(self):\n",
    "        print(\"engine is now stop\")\n",
    "    def horn(self):\n",
    "        print(\"peep peep\")\n",
    "car_a=car()\n",
    "car_a.start()"
   ]
  },
  {
   "cell_type": "code",
   "execution_count": 13,
   "metadata": {},
   "outputs": [
    {
     "name": "stdout",
     "output_type": "stream",
     "text": [
      "engine is now stop\n"
     ]
    }
   ],
   "source": [
    "car_a.stop()"
   ]
  },
  {
   "cell_type": "code",
   "execution_count": 14,
   "metadata": {},
   "outputs": [
    {
     "name": "stdout",
     "output_type": "stream",
     "text": [
      "peep peep\n"
     ]
    }
   ],
   "source": [
    "car_a.horn()"
   ]
  },
  {
   "cell_type": "code",
   "execution_count": null,
   "metadata": {},
   "outputs": [],
   "source": []
  }
 ],
 "metadata": {
  "kernelspec": {
   "display_name": "Python 3",
   "language": "python",
   "name": "python3"
  },
  "language_info": {
   "codemirror_mode": {
    "name": "ipython",
    "version": 3
   },
   "file_extension": ".py",
   "mimetype": "text/x-python",
   "name": "python",
   "nbconvert_exporter": "python",
   "pygments_lexer": "ipython3",
   "version": "3.7.1"
  }
 },
 "nbformat": 4,
 "nbformat_minor": 2
}
