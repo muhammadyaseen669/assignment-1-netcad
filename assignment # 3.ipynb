{
 "cells": [
  {
   "cell_type": "code",
   "execution_count": 1,
   "metadata": {},
   "outputs": [
    {
     "name": "stdout",
     "output_type": "stream",
     "text": [
      "Select operation.\n",
      "1.Add\n",
      "2.Subtract\n",
      "3.Multiply\n",
      "4.Divide\n",
      "5.Power\n",
      "Enter choice(1/2/3/4/5): 3\n",
      "Enter first number: 43\n",
      "Enter second number: 4\n",
      "43.0 * 4.0 = 172.0\n"
     ]
    }
   ],
   "source": [
    "import math\n",
    "def add(x, y):\n",
    "   return x + y\n",
    "def subtract(x, y):\n",
    "   return x - y\n",
    "def multiply(x, y):\n",
    "   return x * y\n",
    "def divide(x, y):\n",
    "   return x / y\n",
    "def power(x,y):\n",
    "   return x ** y\n",
    "print(\"Select operation.\")\n",
    "print(\"1.Add\")\n",
    "print(\"2.Subtract\")\n",
    "print(\"3.Multiply\")\n",
    "print(\"4.Divide\")\n",
    "print(\"5.Power\")\n",
    " \n",
    "choice = input(\"Enter choice(1/2/3/4/5): \")\n",
    "num1 = float(input(\"Enter first number: \"))\n",
    "num2 = float(input(\"Enter second number: \"))\n",
    "if choice == '1':\n",
    "   print(num1,\"+\",num2,\"=\", add(num1,num2))\n",
    "elif choice == '2':\n",
    "   print(num1,\"-\",num2,\"=\", subtract(num1,num2))\n",
    "elif choice == '3':\n",
    "   print(num1,\"*\",num2,\"=\", multiply(num1,num2))\n",
    "elif choice == '4':\n",
    "   print(num1,\"/\",num2,\"=\", divide(num1,num2))\n",
    "elif choice == '5':\n",
    "   print(num1,\"**\",num2,\"=\",power(num1,num2))\n",
    "else:\n",
    "   print(\"Invalid input\")\n"
   ]
  },
  {
   "cell_type": "code",
   "execution_count": 2,
   "metadata": {},
   "outputs": [
    {
     "name": "stdout",
     "output_type": "stream",
     "text": [
      "4 : is number\n",
      "3 : is number\n",
      "5 : is number\n"
     ]
    }
   ],
   "source": [
    "mylist = [4, \"shakeeb\", 3, \"egg\", 5, \"loop\", \"mango\"]\n",
    "for x in mylist:\n",
    "  if type(x) == int:\n",
    "      print(x,\": is number\")"
   ]
  },
  {
   "cell_type": "code",
   "execution_count": 12,
   "metadata": {},
   "outputs": [
    {
     "name": "stdout",
     "output_type": "stream",
     "text": [
      "{'a': '1', 'b': '2', 'c': '3', 'd': '4'}\n",
      "{'a': '1', 'b': '2', 'c': '3', 'd': '4', 'e': '5'}\n"
     ]
    }
   ],
   "source": [
    "dict1 = {'a':'1','b':'2','c':'3','d':'4' }\n",
    "print(dict1)\n",
    "dict1['e'] = '5'\n",
    "\n",
    "print(dict1)"
   ]
  },
  {
   "cell_type": "code",
   "execution_count": 17,
   "metadata": {},
   "outputs": [
    {
     "name": "stdout",
     "output_type": "stream",
     "text": [
      "the sum of the dict1 is 28\n"
     ]
    }
   ],
   "source": [
    "dict1={'a': 1, 'b': 2, 'c': 3, 'd': 4, 'e': 5, 'f': 6, 'g': 7}\n",
    "print(\"the sum of the dict1 is\",sum(dict.values()))"
   ]
  },
  {
   "cell_type": "code",
   "execution_count": 18,
   "metadata": {},
   "outputs": [
    {
     "name": "stdout",
     "output_type": "stream",
     "text": [
      "The original list is : [1, 2, 3, 5, 6, 3, 5, 6, 1]\n",
      "The list after removing duplicates : [1, 2, 3, 5, 6]\n"
     ]
    }
   ],
   "source": [
    "\n",
    "test_list = [1, 2, 3, 5, 6, 3, 5, 6, 1] \n",
    "print (\"The original list is : \" +  str(test_list)) \n",
    "res = [] \n",
    "for i in test_list: \n",
    "    if i not in res: \n",
    "        res.append(i)  \n",
    "print (\"The list after removing duplicates : \" + str(res))"
   ]
  },
  {
   "cell_type": "code",
   "execution_count": 22,
   "metadata": {},
   "outputs": [
    {
     "name": "stdout",
     "output_type": "stream",
     "text": [
      "duplicates are  [20, 30, -20, 60]\n"
     ]
    }
   ],
   "source": [
    "def Repeat(x): \n",
    "    _size = len(x) \n",
    "    repeated = [] \n",
    "    for i in range(_size): \n",
    "        k = i + 1\n",
    "        for j in range(k, _size): \n",
    "            if x[i] == x[j] and x[i] not in repeated: \n",
    "                repeated.append(x[i]) \n",
    "    return repeated \n",
    "  \n",
    "# Driver Code \n",
    "list1 = [10, 20, 30, 20, 20, 30, 40,  \n",
    "         50, -20, 60, 60, -20, -20] \n",
    "print (\"duplicates are \" , Repeat(list1)) "
   ]
  },
  {
   "cell_type": "code",
   "execution_count": 25,
   "metadata": {},
   "outputs": [
    {
     "name": "stdout",
     "output_type": "stream",
     "text": [
      "Dictionary :  {'a': 'apple', 'b': 'bed', 'c': 'cat', 'm': 'Mango'}\n",
      "Please enter the Key you want to search for: c\n",
      "\n",
      "Key Exists in this Dictionary\n",
      "Key =  c  and Value =  cat\n"
     ]
    }
   ],
   "source": [
    "myDict = {'a': 'apple', 'b': 'bed' , 'c': 'cat', 'm': 'Mango'}\n",
    "print(\"Dictionary : \", myDict)\n",
    "\n",
    "key = input(\"Please enter the Key you want to search for: \")\n",
    "\n",
    "\n",
    "if key in myDict.keys():\n",
    "    print(\"\\nKey Exists in this Dictionary\")\n",
    "    print(\"Key = \", key, \" and Value = \", myDict[key])\n",
    "else:\n",
    "    print(\"\\nKey Does not Exists in this Dictionary\")"
   ]
  },
  {
   "cell_type": "code",
   "execution_count": null,
   "metadata": {},
   "outputs": [],
   "source": []
  }
 ],
 "metadata": {
  "kernelspec": {
   "display_name": "Python 3",
   "language": "python",
   "name": "python3"
  },
  "language_info": {
   "codemirror_mode": {
    "name": "ipython",
    "version": 3
   },
   "file_extension": ".py",
   "mimetype": "text/x-python",
   "name": "python",
   "nbconvert_exporter": "python",
   "pygments_lexer": "ipython3",
   "version": "3.7.1"
  }
 },
 "nbformat": 4,
 "nbformat_minor": 2
}
