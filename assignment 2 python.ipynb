{
 "cells": [
  {
   "cell_type": "code",
   "execution_count": 5,
   "metadata": {},
   "outputs": [
    {
     "name": "stdout",
     "output_type": "stream",
     "text": [
      "2\n",
      "its even\n"
     ]
    }
   ],
   "source": [
    "a=input()\n",
    "a=int(a)\n",
    "if a %2 == 0:\n",
    "    print(\"its even\")\n",
    "else:\n",
    "    print(\"odd\")"
   ]
  },
  {
   "cell_type": "code",
   "execution_count": 6,
   "metadata": {},
   "outputs": [
    {
     "name": "stdout",
     "output_type": "stream",
     "text": [
      "5\n"
     ]
    }
   ],
   "source": [
    "list=[1,2,3,4,54]\n",
    "a=len(list)\n",
    "print(a)"
   ]
  },
  {
   "cell_type": "code",
   "execution_count": 28,
   "metadata": {},
   "outputs": [
    {
     "name": "stdout",
     "output_type": "stream",
     "text": [
      "7\n",
      "178\n"
     ]
    }
   ],
   "source": [
    "a=0\n",
    "b=0\n",
    "list2=[12,3,4,56,7,88,8]\n",
    "for i in range(0,len(list2)):\n",
    "    b+=list2[i]\n",
    "print(b)"
   ]
  },
  {
   "cell_type": "code",
   "execution_count": 30,
   "metadata": {},
   "outputs": [
    {
     "name": "stdout",
     "output_type": "stream",
     "text": [
      "89\n",
      "204\n"
     ]
    }
   ],
   "source": [
    "l3=[12,3,4,5,6,77,8,89]\n",
    "print(max(l3))\n",
    "print(sum(l3))"
   ]
  },
  {
   "cell_type": "code",
   "execution_count": 37,
   "metadata": {},
   "outputs": [
    {
     "name": "stdout",
     "output_type": "stream",
     "text": [
      "3\n",
      "2\n",
      "4\n",
      "3\n"
     ]
    }
   ],
   "source": [
    "q=0\n",
    "l5=[12,3,5,2,4,7,8,3]\n",
    "for q in range(0,len(l5)):\n",
    "    if l5[q]<5:\n",
    "        print(l5[q])\n"
   ]
  },
  {
   "cell_type": "code",
   "execution_count": null,
   "metadata": {},
   "outputs": [],
   "source": [
    "sb1 = int(input(\"Enter marks of ENGLISH : \")) \n",
    "sb2 = int(input(\"Enter marks of ISLAMIAT : \"))\n",
    "sb3 = int(input(\"Enter marks of MATHS: \"))\n",
    "sb4 = int(input(\"Enter marks of PHYSICS: \")) \n",
    "sb5 = int(input(\"Enter marks of CHEMISTRY: \")) \n",
    "total = sb1+sb2+sb3+sb4+sb5 \n",
    "print(total) \n",
    "avg = (sb1+sb2+sb3+sb4+sb5)/5\n",
    "print(avg) if(avg>=90): print(\"Grade: A\") elif(avg>=80 and avg<90): print(\"Grade: B\") elif(avg>=70 and avg<80): print(\"Grade: C\") elif(avg>=60 and avg<70): print(\"Grade: D\") else: print(\"Grade: F\")"
   ]
  }
 ],
 "metadata": {
  "kernelspec": {
   "display_name": "Python 3",
   "language": "python",
   "name": "python3"
  },
  "language_info": {
   "codemirror_mode": {
    "name": "ipython",
    "version": 3
   },
   "file_extension": ".py",
   "mimetype": "text/x-python",
   "name": "python",
   "nbconvert_exporter": "python",
   "pygments_lexer": "ipython3",
   "version": "3.7.1"
  }
 },
 "nbformat": 4,
 "nbformat_minor": 2
}
